{
 "cells": [
  {
   "cell_type": "code",
   "execution_count": 1,
   "id": "b75a8ebe",
   "metadata": {},
   "outputs": [
    {
     "name": "stdout",
     "output_type": "stream",
     "text": [
      "Requirement already satisfied: openai in /Users/ganeshkanagavel/Library/CloudStorage/GoogleDrive-kganesk@gmail.com/My Drive/Ganesh/Learning/AIProjects/Project1-EDA/agentic_AI_py312/lib/python3.12/site-packages (1.109.1)\n",
      "Requirement already satisfied: tiktoken in /Users/ganeshkanagavel/Library/CloudStorage/GoogleDrive-kganesk@gmail.com/My Drive/Ganesh/Learning/AIProjects/Project1-EDA/agentic_AI_py312/lib/python3.12/site-packages (0.11.0)\n",
      "Requirement already satisfied: matplotlib in /Users/ganeshkanagavel/Library/CloudStorage/GoogleDrive-kganesk@gmail.com/My Drive/Ganesh/Learning/AIProjects/Project1-EDA/agentic_AI_py312/lib/python3.12/site-packages (3.10.0)\n",
      "Requirement already satisfied: scikit-learn in /Users/ganeshkanagavel/Library/CloudStorage/GoogleDrive-kganesk@gmail.com/My Drive/Ganesh/Learning/AIProjects/Project1-EDA/agentic_AI_py312/lib/python3.12/site-packages (1.7.2)\n",
      "Requirement already satisfied: anyio<5,>=3.5.0 in /Users/ganeshkanagavel/Library/CloudStorage/GoogleDrive-kganesk@gmail.com/My Drive/Ganesh/Learning/AIProjects/Project1-EDA/agentic_AI_py312/lib/python3.12/site-packages (from openai) (4.10.0)\n",
      "Requirement already satisfied: distro<2,>=1.7.0 in /Users/ganeshkanagavel/Library/CloudStorage/GoogleDrive-kganesk@gmail.com/My Drive/Ganesh/Learning/AIProjects/Project1-EDA/agentic_AI_py312/lib/python3.12/site-packages (from openai) (1.9.0)\n",
      "Requirement already satisfied: httpx<1,>=0.23.0 in /Users/ganeshkanagavel/Library/CloudStorage/GoogleDrive-kganesk@gmail.com/My Drive/Ganesh/Learning/AIProjects/Project1-EDA/agentic_AI_py312/lib/python3.12/site-packages (from openai) (0.28.1)\n",
      "Requirement already satisfied: jiter<1,>=0.4.0 in /Users/ganeshkanagavel/Library/CloudStorage/GoogleDrive-kganesk@gmail.com/My Drive/Ganesh/Learning/AIProjects/Project1-EDA/agentic_AI_py312/lib/python3.12/site-packages (from openai) (0.10.0)\n",
      "Requirement already satisfied: pydantic<3,>=1.9.0 in /Users/ganeshkanagavel/Library/CloudStorage/GoogleDrive-kganesk@gmail.com/My Drive/Ganesh/Learning/AIProjects/Project1-EDA/agentic_AI_py312/lib/python3.12/site-packages (from openai) (2.11.9)\n",
      "Requirement already satisfied: sniffio in /Users/ganeshkanagavel/Library/CloudStorage/GoogleDrive-kganesk@gmail.com/My Drive/Ganesh/Learning/AIProjects/Project1-EDA/agentic_AI_py312/lib/python3.12/site-packages (from openai) (1.3.1)\n",
      "Requirement already satisfied: tqdm>4 in /Users/ganeshkanagavel/Library/CloudStorage/GoogleDrive-kganesk@gmail.com/My Drive/Ganesh/Learning/AIProjects/Project1-EDA/agentic_AI_py312/lib/python3.12/site-packages (from openai) (4.67.1)\n",
      "Requirement already satisfied: typing-extensions<5,>=4.11 in /Users/ganeshkanagavel/Library/CloudStorage/GoogleDrive-kganesk@gmail.com/My Drive/Ganesh/Learning/AIProjects/Project1-EDA/agentic_AI_py312/lib/python3.12/site-packages (from openai) (4.15.0)\n",
      "Requirement already satisfied: idna>=2.8 in /Users/ganeshkanagavel/Library/CloudStorage/GoogleDrive-kganesk@gmail.com/My Drive/Ganesh/Learning/AIProjects/Project1-EDA/agentic_AI_py312/lib/python3.12/site-packages (from anyio<5,>=3.5.0->openai) (3.10)\n",
      "Requirement already satisfied: certifi in /Users/ganeshkanagavel/Library/CloudStorage/GoogleDrive-kganesk@gmail.com/My Drive/Ganesh/Learning/AIProjects/Project1-EDA/agentic_AI_py312/lib/python3.12/site-packages (from httpx<1,>=0.23.0->openai) (2025.8.3)\n",
      "Requirement already satisfied: httpcore==1.* in /Users/ganeshkanagavel/Library/CloudStorage/GoogleDrive-kganesk@gmail.com/My Drive/Ganesh/Learning/AIProjects/Project1-EDA/agentic_AI_py312/lib/python3.12/site-packages (from httpx<1,>=0.23.0->openai) (1.0.9)\n",
      "Requirement already satisfied: h11>=0.16 in /Users/ganeshkanagavel/Library/CloudStorage/GoogleDrive-kganesk@gmail.com/My Drive/Ganesh/Learning/AIProjects/Project1-EDA/agentic_AI_py312/lib/python3.12/site-packages (from httpcore==1.*->httpx<1,>=0.23.0->openai) (0.16.0)\n",
      "Requirement already satisfied: annotated-types>=0.6.0 in /Users/ganeshkanagavel/Library/CloudStorage/GoogleDrive-kganesk@gmail.com/My Drive/Ganesh/Learning/AIProjects/Project1-EDA/agentic_AI_py312/lib/python3.12/site-packages (from pydantic<3,>=1.9.0->openai) (0.7.0)\n",
      "Requirement already satisfied: pydantic-core==2.33.2 in /Users/ganeshkanagavel/Library/CloudStorage/GoogleDrive-kganesk@gmail.com/My Drive/Ganesh/Learning/AIProjects/Project1-EDA/agentic_AI_py312/lib/python3.12/site-packages (from pydantic<3,>=1.9.0->openai) (2.33.2)\n",
      "Requirement already satisfied: typing-inspection>=0.4.0 in /Users/ganeshkanagavel/Library/CloudStorage/GoogleDrive-kganesk@gmail.com/My Drive/Ganesh/Learning/AIProjects/Project1-EDA/agentic_AI_py312/lib/python3.12/site-packages (from pydantic<3,>=1.9.0->openai) (0.4.1)\n",
      "Requirement already satisfied: regex>=2022.1.18 in /Users/ganeshkanagavel/Library/CloudStorage/GoogleDrive-kganesk@gmail.com/My Drive/Ganesh/Learning/AIProjects/Project1-EDA/agentic_AI_py312/lib/python3.12/site-packages (from tiktoken) (2025.9.18)\n",
      "Requirement already satisfied: requests>=2.26.0 in /Users/ganeshkanagavel/Library/CloudStorage/GoogleDrive-kganesk@gmail.com/My Drive/Ganesh/Learning/AIProjects/Project1-EDA/agentic_AI_py312/lib/python3.12/site-packages (from tiktoken) (2.32.5)\n",
      "Requirement already satisfied: contourpy>=1.0.1 in /Users/ganeshkanagavel/Library/CloudStorage/GoogleDrive-kganesk@gmail.com/My Drive/Ganesh/Learning/AIProjects/Project1-EDA/agentic_AI_py312/lib/python3.12/site-packages (from matplotlib) (1.3.3)\n",
      "Requirement already satisfied: cycler>=0.10 in /Users/ganeshkanagavel/Library/CloudStorage/GoogleDrive-kganesk@gmail.com/My Drive/Ganesh/Learning/AIProjects/Project1-EDA/agentic_AI_py312/lib/python3.12/site-packages (from matplotlib) (0.12.1)\n",
      "Requirement already satisfied: fonttools>=4.22.0 in /Users/ganeshkanagavel/Library/CloudStorage/GoogleDrive-kganesk@gmail.com/My Drive/Ganesh/Learning/AIProjects/Project1-EDA/agentic_AI_py312/lib/python3.12/site-packages (from matplotlib) (4.59.2)\n",
      "Requirement already satisfied: kiwisolver>=1.3.1 in /Users/ganeshkanagavel/Library/CloudStorage/GoogleDrive-kganesk@gmail.com/My Drive/Ganesh/Learning/AIProjects/Project1-EDA/agentic_AI_py312/lib/python3.12/site-packages (from matplotlib) (1.4.9)\n",
      "Requirement already satisfied: numpy>=1.23 in /Users/ganeshkanagavel/Library/CloudStorage/GoogleDrive-kganesk@gmail.com/My Drive/Ganesh/Learning/AIProjects/Project1-EDA/agentic_AI_py312/lib/python3.12/site-packages (from matplotlib) (2.1.3)\n",
      "Requirement already satisfied: packaging>=20.0 in /Users/ganeshkanagavel/Library/CloudStorage/GoogleDrive-kganesk@gmail.com/My Drive/Ganesh/Learning/AIProjects/Project1-EDA/agentic_AI_py312/lib/python3.12/site-packages (from matplotlib) (25.0)\n",
      "Requirement already satisfied: pillow>=8 in /Users/ganeshkanagavel/Library/CloudStorage/GoogleDrive-kganesk@gmail.com/My Drive/Ganesh/Learning/AIProjects/Project1-EDA/agentic_AI_py312/lib/python3.12/site-packages (from matplotlib) (11.3.0)\n",
      "Requirement already satisfied: pyparsing>=2.3.1 in /Users/ganeshkanagavel/Library/CloudStorage/GoogleDrive-kganesk@gmail.com/My Drive/Ganesh/Learning/AIProjects/Project1-EDA/agentic_AI_py312/lib/python3.12/site-packages (from matplotlib) (3.2.3)\n",
      "Requirement already satisfied: python-dateutil>=2.7 in /Users/ganeshkanagavel/Library/CloudStorage/GoogleDrive-kganesk@gmail.com/My Drive/Ganesh/Learning/AIProjects/Project1-EDA/agentic_AI_py312/lib/python3.12/site-packages (from matplotlib) (2.9.0.post0)\n",
      "Requirement already satisfied: scipy>=1.8.0 in /Users/ganeshkanagavel/Library/CloudStorage/GoogleDrive-kganesk@gmail.com/My Drive/Ganesh/Learning/AIProjects/Project1-EDA/agentic_AI_py312/lib/python3.12/site-packages (from scikit-learn) (1.15.3)\n",
      "Requirement already satisfied: joblib>=1.2.0 in /Users/ganeshkanagavel/Library/CloudStorage/GoogleDrive-kganesk@gmail.com/My Drive/Ganesh/Learning/AIProjects/Project1-EDA/agentic_AI_py312/lib/python3.12/site-packages (from scikit-learn) (1.5.2)\n",
      "Requirement already satisfied: threadpoolctl>=3.1.0 in /Users/ganeshkanagavel/Library/CloudStorage/GoogleDrive-kganesk@gmail.com/My Drive/Ganesh/Learning/AIProjects/Project1-EDA/agentic_AI_py312/lib/python3.12/site-packages (from scikit-learn) (3.6.0)\n",
      "Requirement already satisfied: six>=1.5 in /Users/ganeshkanagavel/Library/CloudStorage/GoogleDrive-kganesk@gmail.com/My Drive/Ganesh/Learning/AIProjects/Project1-EDA/agentic_AI_py312/lib/python3.12/site-packages (from python-dateutil>=2.7->matplotlib) (1.17.0)\n",
      "Requirement already satisfied: charset_normalizer<4,>=2 in /Users/ganeshkanagavel/Library/CloudStorage/GoogleDrive-kganesk@gmail.com/My Drive/Ganesh/Learning/AIProjects/Project1-EDA/agentic_AI_py312/lib/python3.12/site-packages (from requests>=2.26.0->tiktoken) (3.4.3)\n",
      "Requirement already satisfied: urllib3<3,>=1.21.1 in /Users/ganeshkanagavel/Library/CloudStorage/GoogleDrive-kganesk@gmail.com/My Drive/Ganesh/Learning/AIProjects/Project1-EDA/agentic_AI_py312/lib/python3.12/site-packages (from requests>=2.26.0->tiktoken) (2.5.0)\n",
      "Note: you may need to restart the kernel to use updated packages.\n"
     ]
    }
   ],
   "source": [
    "pip install openai tiktoken matplotlib scikit-learn"
   ]
  },
  {
   "cell_type": "code",
   "execution_count": null,
   "id": "73f9bf82",
   "metadata": {},
   "outputs": [
    {
     "name": "stdout",
     "output_type": "stream",
     "text": [
      "Original text: Agentic AI agents can plan, reason, and use tools.\n",
      "Number of tokens: 13\n",
      "Token IDs: [18086, 291, 20837, 19297, 665, 3496, 11, 5207, 11, 326, 1199, 8437, 13]\n",
      "Decoded tokens: ['Agent', 'ic', ' AI', ' agents', ' can', ' plan', ',', ' reason', ',', ' and', ' use', ' tools', '.']\n"
     ]
    }
   ],
   "source": [
    "import tiktoken\n",
    "\n",
    "enc = tiktoken.encoding_for_model(\"gpt-4o-mini\")\n",
    "\n",
    "sample_text = \"Agentic AI agents can plan, reason, and use tools.\"\n",
    "tokens = enc.encode(sample_text)\n",
    "\n",
    "print(\"Original text:\", sample_text)\n",
    "print(\"Number of tokens:\", len(tokens))\n",
    "print(\"Token IDs:\", tokens)\n",
    "print(\"Decoded tokens:\", [enc.decode([t]) for t in tokens])"
   ]
  },
  {
   "cell_type": "code",
   "execution_count": null,
   "id": "601d6627",
   "metadata": {},
   "outputs": [
    {
     "name": "stdout",
     "output_type": "stream",
     "text": [
      "Text: AI is amazing.\n",
      "Tokens: 4 → [17527, 382, 8467, 13]\n",
      "\n",
      "Text: Artificial Intelligence is amazing.\n",
      "Tokens: 5 → [186671, 42378, 382, 8467, 13]\n",
      "\n",
      "Text: AI is 🔥.\n",
      "Tokens: 5 → [17527, 382, 113718, 98, 13]\n",
      "\n"
     ]
    }
   ],
   "source": [
    "sentences = [\n",
    "    \"AI is amazing.\",\n",
    "    \"Artificial Intelligence is amazing.\",\n",
    "    \"AI is 🔥.\"\n",
    "]\n",
    "\n",
    "for s in sentences:\n",
    "    t = enc.encode(s)\n",
    "    print(f\"Text: {s}\\nTokens: {len(t)} → {t}\\n\")"
   ]
  },
  {
   "cell_type": "code",
   "execution_count": 6,
   "id": "980e8c1e",
   "metadata": {},
   "outputs": [
    {
     "name": "stdout",
     "output_type": "stream",
     "text": [
      "Agentic AI → vector length 1536\n",
      "Autonomous agents → vector length 1536\n",
      "Bananas are yellow → vector length 1536\n"
     ]
    }
   ],
   "source": [
    "import os\n",
    "from dotenv import load_dotenv\n",
    "from openai import OpenAI\n",
    "load_dotenv()\n",
    "\n",
    "client = OpenAI()\n",
    "\n",
    "texts = [\"Agentic AI\", \"Autonomous agents\", \"Bananas are yellow\"]\n",
    "\n",
    "embeddings = []\n",
    "for t in texts:\n",
    "    resp = client.embeddings.create(\n",
    "        model=\"text-embedding-3-small\",\n",
    "        input=t\n",
    "    )\n",
    "    vector = resp.data[0].embedding\n",
    "    embeddings.append(vector)\n",
    "    print(f\"{t} → vector length {len(vector)}\")"
   ]
  },
  {
   "cell_type": "code",
   "execution_count": 7,
   "id": "7c8cc5c7",
   "metadata": {},
   "outputs": [
    {
     "name": "stdout",
     "output_type": "stream",
     "text": [
      "✅ API key loaded successfully!\n",
      "Key starts with: sk-AC8eo23...\n",
      "✅ OpenAI client initialized successfully!\n"
     ]
    }
   ],
   "source": [
    "# Test OpenAI API connection\n",
    "import os\n",
    "from dotenv import load_dotenv\n",
    "from openai import OpenAI\n",
    "\n",
    "# Load environment variables\n",
    "load_dotenv()\n",
    "\n",
    "# Check if API key is loaded\n",
    "api_key = os.getenv(\"OPENAI_API_KEY\")\n",
    "if api_key:\n",
    "    print(\"✅ API key loaded successfully!\")\n",
    "    print(f\"Key starts with: {api_key[:10]}...\")\n",
    "else:\n",
    "    print(\"❌ API key not found!\")\n",
    "\n",
    "# Initialize client\n",
    "try:\n",
    "    client = OpenAI()\n",
    "    print(\"✅ OpenAI client initialized successfully!\")\n",
    "except Exception as e:\n",
    "    print(f\"❌ Error initializing client: {e}\")\n"
   ]
  },
  {
   "cell_type": "code",
   "execution_count": 8,
   "id": "e2da57f4",
   "metadata": {},
   "outputs": [
    {
     "name": "stdout",
     "output_type": "stream",
     "text": [
      "✅ Agentic AI → vector length 1536\n",
      "✅ Autonomous agents → vector length 1536\n",
      "✅ Bananas are yellow → vector length 1536\n",
      "\n",
      "🎉 Successfully created 3 embeddings!\n"
     ]
    }
   ],
   "source": [
    "# Now test the embeddings code that was failing\n",
    "texts = [\"Agentic AI\", \"Autonomous agents\", \"Bananas are yellow\"]\n",
    "\n",
    "embeddings = []\n",
    "for t in texts:\n",
    "    try:\n",
    "        resp = client.embeddings.create(\n",
    "            model=\"text-embedding-3-small\",\n",
    "            input=t\n",
    "        )\n",
    "        vector = resp.data[0].embedding\n",
    "        embeddings.append(vector)\n",
    "        print(f\"✅ {t} → vector length {len(vector)}\")\n",
    "    except Exception as e:\n",
    "        print(f\"❌ Error processing '{t}': {e}\")\n",
    "\n",
    "print(f\"\\n🎉 Successfully created {len(embeddings)} embeddings!\")\n"
   ]
  },
  {
   "cell_type": "code",
   "execution_count": null,
   "id": "bc70ff97",
   "metadata": {},
   "outputs": [
    {
     "name": "stderr",
     "output_type": "stream",
     "text": [
      "/Users/ganeshkanagavel/Library/CloudStorage/GoogleDrive-kganesk@gmail.com/My Drive/Ganesh/Learning/AIProjects/Project1-EDA/agentic_AI_py312/lib/python3.12/site-packages/sklearn/utils/extmath.py:350: RuntimeWarning: divide by zero encountered in matmul\n",
      "  Q, _ = normalizer(A @ Q)\n",
      "/Users/ganeshkanagavel/Library/CloudStorage/GoogleDrive-kganesk@gmail.com/My Drive/Ganesh/Learning/AIProjects/Project1-EDA/agentic_AI_py312/lib/python3.12/site-packages/sklearn/utils/extmath.py:350: RuntimeWarning: overflow encountered in matmul\n",
      "  Q, _ = normalizer(A @ Q)\n",
      "/Users/ganeshkanagavel/Library/CloudStorage/GoogleDrive-kganesk@gmail.com/My Drive/Ganesh/Learning/AIProjects/Project1-EDA/agentic_AI_py312/lib/python3.12/site-packages/sklearn/utils/extmath.py:350: RuntimeWarning: invalid value encountered in matmul\n",
      "  Q, _ = normalizer(A @ Q)\n",
      "/Users/ganeshkanagavel/Library/CloudStorage/GoogleDrive-kganesk@gmail.com/My Drive/Ganesh/Learning/AIProjects/Project1-EDA/agentic_AI_py312/lib/python3.12/site-packages/sklearn/utils/extmath.py:351: RuntimeWarning: divide by zero encountered in matmul\n",
      "  Q, _ = normalizer(A.T @ Q)\n",
      "/Users/ganeshkanagavel/Library/CloudStorage/GoogleDrive-kganesk@gmail.com/My Drive/Ganesh/Learning/AIProjects/Project1-EDA/agentic_AI_py312/lib/python3.12/site-packages/sklearn/utils/extmath.py:351: RuntimeWarning: overflow encountered in matmul\n",
      "  Q, _ = normalizer(A.T @ Q)\n",
      "/Users/ganeshkanagavel/Library/CloudStorage/GoogleDrive-kganesk@gmail.com/My Drive/Ganesh/Learning/AIProjects/Project1-EDA/agentic_AI_py312/lib/python3.12/site-packages/sklearn/utils/extmath.py:351: RuntimeWarning: invalid value encountered in matmul\n",
      "  Q, _ = normalizer(A.T @ Q)\n",
      "/Users/ganeshkanagavel/Library/CloudStorage/GoogleDrive-kganesk@gmail.com/My Drive/Ganesh/Learning/AIProjects/Project1-EDA/agentic_AI_py312/lib/python3.12/site-packages/sklearn/utils/extmath.py:355: RuntimeWarning: divide by zero encountered in matmul\n",
      "  Q, _ = qr_normalizer(A @ Q)\n",
      "/Users/ganeshkanagavel/Library/CloudStorage/GoogleDrive-kganesk@gmail.com/My Drive/Ganesh/Learning/AIProjects/Project1-EDA/agentic_AI_py312/lib/python3.12/site-packages/sklearn/utils/extmath.py:355: RuntimeWarning: overflow encountered in matmul\n",
      "  Q, _ = qr_normalizer(A @ Q)\n",
      "/Users/ganeshkanagavel/Library/CloudStorage/GoogleDrive-kganesk@gmail.com/My Drive/Ganesh/Learning/AIProjects/Project1-EDA/agentic_AI_py312/lib/python3.12/site-packages/sklearn/utils/extmath.py:355: RuntimeWarning: invalid value encountered in matmul\n",
      "  Q, _ = qr_normalizer(A @ Q)\n",
      "/Users/ganeshkanagavel/Library/CloudStorage/GoogleDrive-kganesk@gmail.com/My Drive/Ganesh/Learning/AIProjects/Project1-EDA/agentic_AI_py312/lib/python3.12/site-packages/sklearn/utils/extmath.py:577: RuntimeWarning: divide by zero encountered in matmul\n",
      "  B = Q.T @ M\n",
      "/Users/ganeshkanagavel/Library/CloudStorage/GoogleDrive-kganesk@gmail.com/My Drive/Ganesh/Learning/AIProjects/Project1-EDA/agentic_AI_py312/lib/python3.12/site-packages/sklearn/utils/extmath.py:577: RuntimeWarning: overflow encountered in matmul\n",
      "  B = Q.T @ M\n",
      "/Users/ganeshkanagavel/Library/CloudStorage/GoogleDrive-kganesk@gmail.com/My Drive/Ganesh/Learning/AIProjects/Project1-EDA/agentic_AI_py312/lib/python3.12/site-packages/sklearn/utils/extmath.py:577: RuntimeWarning: invalid value encountered in matmul\n",
      "  B = Q.T @ M\n",
      "/Users/ganeshkanagavel/Library/CloudStorage/GoogleDrive-kganesk@gmail.com/My Drive/Ganesh/Learning/AIProjects/Project1-EDA/agentic_AI_py312/lib/python3.12/site-packages/sklearn/utils/extmath.py:590: RuntimeWarning: divide by zero encountered in matmul\n",
      "  U = Q @ Uhat\n",
      "/Users/ganeshkanagavel/Library/CloudStorage/GoogleDrive-kganesk@gmail.com/My Drive/Ganesh/Learning/AIProjects/Project1-EDA/agentic_AI_py312/lib/python3.12/site-packages/sklearn/utils/extmath.py:590: RuntimeWarning: overflow encountered in matmul\n",
      "  U = Q @ Uhat\n",
      "/Users/ganeshkanagavel/Library/CloudStorage/GoogleDrive-kganesk@gmail.com/My Drive/Ganesh/Learning/AIProjects/Project1-EDA/agentic_AI_py312/lib/python3.12/site-packages/sklearn/utils/extmath.py:590: RuntimeWarning: invalid value encountered in matmul\n",
      "  U = Q @ Uhat\n"
     ]
    },
    {
     "data": {
      "image/png": "[encoded data removed]",
      "text/plain": [
       "<Figure size 600x600 with 1 Axes>"
      ]
     },
     "metadata": {},
     "output_type": "display_data"
    }
   ],
   "source": [
    "import matplotlib.pyplot as plt\n",
    "from sklearn.decomposition import PCA\n",
    "\n",
    "pca = PCA(n_components=2)\n",
    "points = pca.fit_transform(embeddings)\n",
    "\n",
    "plt.figure(figsize=(6,6))\n",
    "for i, txt in enumerate(texts):\n",
    "    plt.scatter(points[i,0], points[i,1])\n",
    "    plt.text(points[i,0]+0.02, points[i,1]+0.02, txt)\n",
    "\n",
    "plt.title(\"Embedding Visualization (PCA 2D)\")\n",
    "plt.show()"
   ]
  },
  {
   "cell_type": "code",
   "execution_count": null,
   "id": "ca719193",
   "metadata": {},
   "outputs": [
    {
     "name": "stdout",
     "output_type": "stream",
     "text": [
      "Similarity scores: [[1.         0.58413705 0.02984083]]\n"
     ]
    }
   ],
   "source": [
    "from sklearn.metrics.pairwise import cosine_similarity\n",
    "\n",
    "sim = cosine_similarity([embeddings[0]], embeddings)\n",
    "print(\"Similarity scores:\", sim)"
   ]
  },
  {
   "cell_type": "markdown",
   "id": "3065dcf7",
   "metadata": {},
   "source": [
    "# 7. Mini-Project: Token & Embedding Explorer\n",
    "\n",
    "## Objective\n",
    "Create a comprehensive function that analyzes text by providing:\n",
    "- **Tokenization**: Break down text into tokens\n",
    "- **Embedding**: Generate vector representation\n",
    "- **Similarity**: Compare against a reference text\n",
    "- **Visualization**: Show clusters and relationships\n",
    "\n",
    "## Step-by-Step Implementation\n"
   ]
  },
  {
   "cell_type": "code",
   "execution_count": 11,
   "id": "ee5f425c",
   "metadata": {},
   "outputs": [
    {
     "name": "stdout",
     "output_type": "stream",
     "text": [
      "✅ Libraries imported successfully!\n"
     ]
    }
   ],
   "source": [
    "# Step 1: Import required libraries\n",
    "import numpy as np\n",
    "import pandas as pd\n",
    "from sklearn.metrics.pairwise import cosine_similarity\n",
    "from sklearn.decomposition import PCA\n",
    "import matplotlib.pyplot as plt\n",
    "import seaborn as sns\n",
    "from typing import List, Dict, Tuple\n",
    "import warnings\n",
    "warnings.filterwarnings('ignore')\n",
    "\n",
    "print(\"✅ Libraries imported successfully!\")\n"
   ]
  },
  {
   "cell_type": "code",
   "execution_count": 12,
   "id": "463b9ecf",
   "metadata": {},
   "outputs": [
    {
     "name": "stdout",
     "output_type": "stream",
     "text": [
      "✅ Token & Embedding Explorer function created!\n"
     ]
    }
   ],
   "source": [
    "# Step 2: Create the Token & Embedding Explorer Function\n",
    "def token_embedding_explorer(sentence: str, reference_text: str = None, model_name: str = \"gpt-4o-mini\") -> Dict:\n",
    "    \"\"\"\n",
    "    Comprehensive text analysis function that provides tokenization, embedding, and similarity analysis.\n",
    "\n",
    "    Args:\n",
    "        sentence (str): Input sentence to analyze\n",
    "        reference_text (str): Reference text for similarity comparison (optional)\n",
    "        model_name (str): Model name for tokenization\n",
    "\n",
    "    Returns:\n",
    "        Dict: Dictionary containing tokens, embedding, and similarity information\n",
    "    \"\"\"\n",
    "\n",
    "    # Initialize tokenizer\n",
    "    enc = tiktoken.encoding_for_model(model_name)\n",
    "\n",
    "    # 1. TOKENIZATION ANALYSIS\n",
    "    tokens = enc.encode(sentence)\n",
    "    decoded_tokens = [enc.decode([t]) for t in tokens]\n",
    "\n",
    "    token_info = {\n",
    "        'original_text': sentence,\n",
    "        'token_count': len(tokens),\n",
    "        'token_ids': tokens,\n",
    "        'decoded_tokens': decoded_tokens,\n",
    "        'token_details': [{'id': tid, 'text': ttext} for tid, ttext in zip(tokens, decoded_tokens)]\n",
    "    }\n",
    "\n",
    "    # 2. EMBEDDING GENERATION\n",
    "    try:\n",
    "        response = client.embeddings.create(\n",
    "            model=\"text-embedding-3-small\",\n",
    "            input=sentence\n",
    "        )\n",
    "        embedding = response.data[0].embedding\n",
    "        embedding_info = {\n",
    "            'embedding_vector': embedding,\n",
    "            'embedding_dimension': len(embedding),\n",
    "            'embedding_norm': np.linalg.norm(embedding)\n",
    "        }\n",
    "    except Exception as e:\n",
    "        print(f\"❌ Error generating embedding: {e}\")\n",
    "        embedding_info = {'error': str(e)}\n",
    "\n",
    "    # 3. SIMILARITY ANALYSIS (if reference provided)\n",
    "    similarity_info = {}\n",
    "    if reference_text:\n",
    "        try:\n",
    "            # Get reference embedding\n",
    "            ref_response = client.embeddings.create(\n",
    "                model=\"text-embedding-3-small\",\n",
    "                input=reference_text\n",
    "            )\n",
    "            ref_embedding = ref_response.data[0].embedding\n",
    "\n",
    "            # Calculate similarity\n",
    "            similarity = cosine_similarity([embedding], [ref_embedding])[0][0]\n",
    "\n",
    "            similarity_info = {\n",
    "                'reference_text': reference_text,\n",
    "                'similarity_score': float(similarity),\n",
    "                'similarity_interpretation': interpret_similarity(similarity)\n",
    "            }\n",
    "        except Exception as e:\n",
    "            similarity_info = {'error': str(e)}\n",
    "\n",
    "    # 4. COMPREHENSIVE ANALYSIS\n",
    "    analysis = {\n",
    "        'tokenization': token_info,\n",
    "        'embedding': embedding_info,\n",
    "        'similarity': similarity_info,\n",
    "        'summary': {\n",
    "            'text_length': len(sentence),\n",
    "            'token_efficiency': len(sentence) / len(tokens) if tokens else 0,\n",
    "            'has_embedding': 'embedding_vector' in embedding_info,\n",
    "            'has_similarity': 'similarity_score' in similarity_info\n",
    "        }\n",
    "    }\n",
    "\n",
    "    return analysis\n",
    "\n",
    "def interpret_similarity(score: float) -> str:\n",
    "    \"\"\"Interpret similarity score in human-readable terms.\"\"\"\n",
    "    if score >= 0.9:\n",
    "        return \"Very similar (almost identical meaning)\"\n",
    "    elif score >= 0.7:\n",
    "        return \"Similar (related concepts)\"\n",
    "    elif score >= 0.5:\n",
    "        return \"Moderately similar (some shared concepts)\"\n",
    "    elif score >= 0.3:\n",
    "        return \"Somewhat different (limited similarity)\"\n",
    "    else:\n",
    "        return \"Very different (unrelated concepts)\"\n",
    "\n",
    "print(\"✅ Token & Embedding Explorer function created!\")\n"
   ]
  },
  {
   "cell_type": "code",
   "execution_count": 13,
   "id": "84e2b5ed",
   "metadata": {},
   "outputs": [
    {
     "name": "stdout",
     "output_type": "stream",
     "text": [
      "🧪 Testing Token & Embedding Explorer with a single sentence...\n",
      "============================================================\n",
      "📝 Original Text: 'Machine learning is transforming artificial intelligence.'\n",
      "🔢 Token Count: 7\n",
      "🎯 Tokens: ['Machine', ' learning', ' is', ' transforming', ' artificial', ' intelligence', '.']\n",
      "📊 Embedding Dimension: 1536\n",
      "📏 Embedding Norm: 1.0000\n",
      "🔗 Similarity Score: 0.7112\n",
      "💭 Interpretation: Similar (related concepts)\n",
      "⚡ Token Efficiency: 8.14 chars/token\n",
      "✅ Single sentence test completed!\n"
     ]
    }
   ],
   "source": [
    "# Step 3: Test the function with a single sentence\n",
    "print(\"🧪 Testing Token & Embedding Explorer with a single sentence...\")\n",
    "print(\"=\" * 60)\n",
    "\n",
    "# Test sentence\n",
    "test_sentence = \"Machine learning is transforming artificial intelligence.\"\n",
    "reference = \"AI and machine learning are revolutionizing technology.\"\n",
    "\n",
    "# Analyze the sentence\n",
    "result = token_embedding_explorer(test_sentence, reference)\n",
    "\n",
    "# Display results\n",
    "print(f\"📝 Original Text: '{result['tokenization']['original_text']}'\")\n",
    "print(f\"🔢 Token Count: {result['tokenization']['token_count']}\")\n",
    "print(f\"🎯 Tokens: {result['tokenization']['decoded_tokens']}\")\n",
    "print(f\"📊 Embedding Dimension: {result['embedding']['embedding_dimension']}\")\n",
    "print(f\"📏 Embedding Norm: {result['embedding']['embedding_norm']:.4f}\")\n",
    "\n",
    "if 'similarity_score' in result['similarity']:\n",
    "    print(f\"🔗 Similarity Score: {result['similarity']['similarity_score']:.4f}\")\n",
    "    print(f\"💭 Interpretation: {result['similarity']['similarity_interpretation']}\")\n",
    "\n",
    "print(f\"⚡ Token Efficiency: {result['summary']['token_efficiency']:.2f} chars/token\")\n",
    "print(\"✅ Single sentence test completed!\")\n"
   ]
  },
  {
   "cell_type": "code",
   "execution_count": 17,
   "id": "9f43a30b",
   "metadata": {},
   "outputs": [
    {
     "name": "stdout",
     "output_type": "stream",
     "text": [
      "🧪 Testing with multiple diverse sentences...\n",
      "============================================================\n",
      "📊 Analyzing sentence 1/10: 'Artificial intelligence is the future of technolog...'\n",
      "📊 Analyzing sentence 2/10: 'Cats are amazing pets that love to play....'\n",
      "📊 Analyzing sentence 3/10: 'The weather today is sunny and warm....'\n",
      "📊 Analyzing sentence 4/10: 'Machine learning algorithms can predict outcomes....'\n",
      "📊 Analyzing sentence 5/10: 'I love eating pizza on weekends....'\n",
      "📊 Analyzing sentence 6/10: 'Neural networks mimic the human brain....'\n",
      "📊 Analyzing sentence 7/10: 'The ocean waves are beautiful at sunset....'\n",
      "📊 Analyzing sentence 8/10: 'Deep learning requires large datasets....'\n",
      "📊 Analyzing sentence 9/10: 'My favorite color is blue....'\n",
      "📊 Analyzing sentence 10/10: 'Natural language processing helps computers unders...'\n",
      "\n",
      "✅ Successfully analyzed 10 sentences!\n",
      "============================================================\n"
     ]
    }
   ],
   "source": [
    "# Step 4: Test with multiple diverse sentences\n",
    "print(\"🧪 Testing with multiple diverse sentences...\")\n",
    "print(\"=\" * 60)\n",
    "\n",
    "# Create diverse test sentences\n",
    "test_sentences = [\n",
    "    \"Artificial intelligence is the future of technology.\",\n",
    "    \"Cats are amazing pets that love to play.\",\n",
    "    \"The weather today is sunny and warm.\",\n",
    "    \"Machine learning algorithms can predict outcomes.\",\n",
    "    \"I love eating pizza on weekends.\",\n",
    "    \"Neural networks mimic the human brain.\",\n",
    "    \"The ocean waves are beautiful at sunset.\",\n",
    "    \"Deep learning requires large datasets.\",\n",
    "    \"My favorite color is blue.\",\n",
    "    \"Natural language processing helps computers understand text.\"\n",
    "]\n",
    "\n",
    "# Reference text for similarity comparison\n",
    "reference_text = \"Technology and artificial intelligence are advancing rapidly.\"\n",
    "\n",
    "# Analyze all sentences\n",
    "results = []\n",
    "for i, sentence in enumerate(test_sentences, 1):\n",
    "    print(f\"📊 Analyzing sentence {i}/10: '{sentence[:50]}...'\")\n",
    "    result = token_embedding_explorer(sentence, reference_text)\n",
    "    results.append(result)\n",
    "\n",
    "print(f\"\\n✅ Successfully analyzed {len(results)} sentences!\")\n",
    "print(\"=\" * 60)\n"
   ]
  },
  {
   "cell_type": "code",
   "execution_count": 19,
   "id": "4d490eee",
   "metadata": {},
   "outputs": [
    {
     "name": "stdout",
     "output_type": "stream",
     "text": [
      "📊 Creating comprehensive analysis and visualizations...\n",
      "============================================================\n",
      "📋 ANALYSIS SUMMARY:\n",
      "========================================\n",
      "Total sentences analyzed: 10\n",
      "Average token count: 7.50\n",
      "Average similarity score: 0.2491\n",
      "Token count range: 6 - 9\n",
      "Similarity range: 0.0404 - 0.7249\n",
      "\n",
      "🔝 TOP 3 MOST SIMILAR TO REFERENCE:\n",
      "  0.7249: Artificial intelligence is the future of technology.\n",
      "  0.4020: Machine learning algorithms can predict outcomes.\n",
      "  0.3235: Deep learning requires large datasets.\n",
      "\n",
      "🔝 TOP 3 LEAST SIMILAR TO REFERENCE:\n",
      "  0.0404: The ocean waves are beautiful at sunset.\n",
      "  0.0469: My favorite color is blue.\n",
      "  0.0530: I love eating pizza on weekends.\n",
      "✅ Analysis completed!\n"
     ]
    }
   ],
   "source": [
    "# Step 5: Create comprehensive analysis and visualization\n",
    "print(\"📊 Creating comprehensive analysis and visualizations...\")\n",
    "print(\"=\" * 60)\n",
    "\n",
    "# Extract data for analysis\n",
    "sentences = [r['tokenization']['original_text'] for r in results]\n",
    "token_counts = [r['tokenization']['token_count'] for r in results]\n",
    "similarity_scores = [r['similarity']['similarity_score'] for r in results if 'similarity_score' in r['similarity']]\n",
    "embeddings = [r['embedding']['embedding_vector'] for r in results if 'embedding_vector' in r['embedding']]\n",
    "\n",
    "# Create summary DataFrame\n",
    "summary_data = []\n",
    "for i, result in enumerate(results):\n",
    "    summary_data.append({\n",
    "        'sentence': result['tokenization']['original_text'],\n",
    "        'token_count': result['tokenization']['token_count'],\n",
    "        'similarity_score': result['similarity'].get('similarity_score', 0),\n",
    "        'embedding_norm': result['embedding'].get('embedding_norm', 0),\n",
    "        'token_efficiency': result['summary']['token_efficiency']\n",
    "    })\n",
    "\n",
    "df = pd.DataFrame(summary_data)\n",
    "\n",
    "print(\"📋 ANALYSIS SUMMARY:\")\n",
    "print(\"=\" * 40)\n",
    "print(f\"Total sentences analyzed: {len(sentences)}\")\n",
    "print(f\"Average token count: {np.mean(token_counts):.2f}\")\n",
    "print(f\"Average similarity score: {np.mean(similarity_scores):.4f}\")\n",
    "print(f\"Token count range: {min(token_counts)} - {max(token_counts)}\")\n",
    "print(f\"Similarity range: {min(similarity_scores):.4f} - {max(similarity_scores):.4f}\")\n",
    "\n",
    "print(\"\\n🔝 TOP 3 MOST SIMILAR TO REFERENCE:\")\n",
    "top_similar = df.nlargest(3, 'similarity_score')\n",
    "for i, row in top_similar.iterrows():\n",
    "    print(f\"  {row['similarity_score']:.4f}: {row['sentence']}\")\n",
    "\n",
    "print(\"\\n🔝 TOP 3 LEAST SIMILAR TO REFERENCE:\")\n",
    "least_similar = df.nsmallest(3, 'similarity_score')\n",
    "for i, row in least_similar.iterrows():\n",
    "    print(f\"  {row['similarity_score']:.4f}: {row['sentence']}\")\n",
    "\n",
    "print(\"✅ Analysis completed!\")\n"
   ]
  },
  {
   "cell_type": "code",
   "execution_count": 20,
   "id": "380ca7a4",
   "metadata": {},
   "outputs": [
    {
     "name": "stdout",
     "output_type": "stream",
     "text": [
      "🎨 Creating cluster visualization...\n"
     ]
    },
    {
     "data": {
      "image/png": "[encoded data removed]",
      "text/plain": [
       "<Figure size 1500x1000 with 2 Axes>"
      ]
     },
     "metadata": {},
     "output_type": "display_data"
    },
    {
     "name": "stdout",
     "output_type": "stream",
     "text": [
      "📊 PCA explained variance: PC1=22.8%, PC2=12.3%\n",
      "✅ Cluster visualization completed!\n"
     ]
    }
   ],
   "source": [
    "# Step 6: Create cluster visualization\n",
    "print(\"🎨 Creating cluster visualization...\")\n",
    "\n",
    "# Create PCA for 2D visualization\n",
    "if len(embeddings) > 1:\n",
    "    pca = PCA(n_components=2)\n",
    "    embedding_2d = pca.fit_transform(embeddings)\n",
    "\n",
    "    # Create the visualization\n",
    "    plt.figure(figsize=(15, 10))\n",
    "\n",
    "    # Create scatter plot with similarity-based coloring\n",
    "    scatter = plt.scatter(embedding_2d[:, 0], embedding_2d[:, 1],\n",
    "                         c=similarity_scores, cmap='viridis',\n",
    "                         s=100, alpha=0.7, edgecolors='black')\n",
    "\n",
    "    # Add colorbar\n",
    "    cbar = plt.colorbar(scatter)\n",
    "    cbar.set_label('Similarity Score', rotation=270, labelpad=20)\n",
    "\n",
    "    # Add labels for each point\n",
    "    for i, sentence in enumerate(sentences):\n",
    "        # Truncate long sentences for display\n",
    "        label = sentence[:30] + \"...\" if len(sentence) > 30 else sentence\n",
    "        plt.annotate(f\"{i+1}: {label}\",\n",
    "                    (embedding_2d[i, 0], embedding_2d[i, 1]),\n",
    "                    xytext=(5, 5), textcoords='offset points',\n",
    "                    fontsize=8, alpha=0.8)\n",
    "\n",
    "    plt.title('Token & Embedding Explorer: Sentence Clusters', fontsize=16, fontweight='bold')\n",
    "    plt.xlabel(f'PC1 ({pca.explained_variance_ratio_[0]:.1%} variance)', fontsize=12)\n",
    "    plt.ylabel(f'PC2 ({pca.explained_variance_ratio_[1]:.1%} variance)', fontsize=12)\n",
    "    plt.grid(True, alpha=0.3)\n",
    "\n",
    "    # Add reference point if available\n",
    "    if reference_text:\n",
    "        ref_embedding = client.embeddings.create(\n",
    "            model=\"text-embedding-3-small\",\n",
    "            input=reference_text\n",
    "        ).data[0].embedding\n",
    "        ref_2d = pca.transform([ref_embedding])\n",
    "        plt.scatter(ref_2d[0, 0], ref_2d[0, 1],\n",
    "                   c='red', s=200, marker='*',\n",
    "                   label='Reference Text', edgecolors='black')\n",
    "        plt.legend()\n",
    "\n",
    "    plt.tight_layout()\n",
    "    plt.show()\n",
    "\n",
    "    print(f\"📊 PCA explained variance: PC1={pca.explained_variance_ratio_[0]:.1%}, PC2={pca.explained_variance_ratio_[1]:.1%}\")\n",
    "else:\n",
    "    print(\"⚠️ Need at least 2 embeddings for cluster visualization\")\n",
    "\n",
    "print(\"✅ Cluster visualization completed!\")\n"
   ]
  },
  {
   "cell_type": "code",
   "execution_count": 21,
   "id": "c2ce6491",
   "metadata": {},
   "outputs": [
    {
     "name": "stdout",
     "output_type": "stream",
     "text": [
      "🔍 Additional Analysis and Insights\n",
      "============================================================\n",
      "📊 TOKEN EFFICIENCY ANALYSIS:\n",
      "------------------------------\n",
      "Average characters per token: 5.49\n",
      "Most efficient sentence: Natural language processing helps computers understand text.\n",
      "Least efficient sentence: My favorite color is blue.\n",
      "\n",
      "📈 SIMILARITY DISTRIBUTION:\n",
      "------------------------------\n",
      "High similarity (>0.7): 1 sentences\n",
      "Medium similarity (0.4-0.7): 1 sentences\n",
      "Low similarity (<0.4): 8 sentences\n"
     ]
    },
    {
     "data": {
      "image/png": "[encoded data removed]",
      "text/plain": [
       "<Figure size 1200x800 with 2 Axes>"
      ]
     },
     "metadata": {},
     "output_type": "display_data"
    },
    {
     "name": "stdout",
     "output_type": "stream",
     "text": [
      "✅ Additional analysis completed!\n"
     ]
    }
   ],
   "source": [
    "# Step 7: Additional analysis and insights\n",
    "print(\"🔍 Additional Analysis and Insights\")\n",
    "print(\"=\" * 60)\n",
    "\n",
    "# Token efficiency analysis\n",
    "print(\"📊 TOKEN EFFICIENCY ANALYSIS:\")\n",
    "print(\"-\" * 30)\n",
    "token_efficiency = df['token_efficiency'].values\n",
    "print(f\"Average characters per token: {np.mean(token_efficiency):.2f}\")\n",
    "print(f\"Most efficient sentence: {df.loc[df['token_efficiency'].idxmax(), 'sentence']}\")\n",
    "print(f\"Least efficient sentence: {df.loc[df['token_efficiency'].idxmin(), 'sentence']}\")\n",
    "\n",
    "# Similarity distribution analysis\n",
    "print(f\"\\n📈 SIMILARITY DISTRIBUTION:\")\n",
    "print(\"-\" * 30)\n",
    "print(f\"High similarity (>0.7): {len(df[df['similarity_score'] > 0.7])} sentences\")\n",
    "print(f\"Medium similarity (0.4-0.7): {len(df[(df['similarity_score'] >= 0.4) & (df['similarity_score'] <= 0.7)])} sentences\")\n",
    "print(f\"Low similarity (<0.4): {len(df[df['similarity_score'] < 0.4])} sentences\")\n",
    "\n",
    "# Create similarity heatmap\n",
    "plt.figure(figsize=(12, 8))\n",
    "similarity_matrix = np.array([[r['similarity']['similarity_score'] for r in results]])\n",
    "plt.imshow(similarity_matrix, cmap='RdYlBu_r', aspect='auto')\n",
    "plt.colorbar(label='Similarity Score')\n",
    "plt.title('Similarity Scores Heatmap', fontsize=14, fontweight='bold')\n",
    "plt.xlabel('Sentence Index')\n",
    "plt.ylabel('Reference Text')\n",
    "plt.xticks(range(len(sentences)), [f\"S{i+1}\" for i in range(len(sentences))], rotation=45)\n",
    "plt.yticks([0], ['Reference'])\n",
    "plt.tight_layout()\n",
    "plt.show()\n",
    "\n",
    "print(\"✅ Additional analysis completed!\")\n"
   ]
  },
  {
   "cell_type": "code",
   "execution_count": 22,
   "id": "5c0d883c",
   "metadata": {},
   "outputs": [
    {
     "name": "stdout",
     "output_type": "stream",
     "text": [
      "🧪 Testing interactive exploration...\n",
      "🔍 EXPLORING: 'Deep learning models are incredibly powerful.'\n",
      "============================================================\n",
      "🎯 TOKEN ANALYSIS:\n",
      "  Original: Deep learning models are incredibly powerful.\n",
      "  Token count: 7\n",
      "  Token efficiency: 6.43 chars/token\n",
      "  Tokens: ['Deep', ' learning', ' models', ' are', ' incredibly', ' powerful', '.']\n",
      "\n",
      "📊 EMBEDDING ANALYSIS:\n",
      "  Dimension: 1536\n",
      "  Norm: 1.0000\n",
      "\n",
      "🔗 SIMILARITY ANALYSIS:\n",
      "  Reference: AI technology is advancing rapidly.\n",
      "  Score: 0.4438\n",
      "  Interpretation: Somewhat different (limited similarity)\n",
      "\n",
      "✅ Interactive exploration completed!\n"
     ]
    }
   ],
   "source": [
    "# Step 8: Interactive exploration function\n",
    "def explore_sentence(sentence: str, reference: str = None):\n",
    "    \"\"\"\n",
    "    Interactive function to explore a single sentence in detail.\n",
    "    \"\"\"\n",
    "    print(f\"🔍 EXPLORING: '{sentence}'\")\n",
    "    print(\"=\" * 60)\n",
    "\n",
    "    result = token_embedding_explorer(sentence, reference)\n",
    "\n",
    "    # Detailed token analysis\n",
    "    print(\"🎯 TOKEN ANALYSIS:\")\n",
    "    print(f\"  Original: {result['tokenization']['original_text']}\")\n",
    "    print(f\"  Token count: {result['tokenization']['token_count']}\")\n",
    "    print(f\"  Token efficiency: {result['summary']['token_efficiency']:.2f} chars/token\")\n",
    "    print(f\"  Tokens: {result['tokenization']['decoded_tokens']}\")\n",
    "\n",
    "    # Embedding analysis\n",
    "    print(f\"\\n📊 EMBEDDING ANALYSIS:\")\n",
    "    print(f\"  Dimension: {result['embedding']['embedding_dimension']}\")\n",
    "    print(f\"  Norm: {result['embedding']['embedding_norm']:.4f}\")\n",
    "\n",
    "    # Similarity analysis\n",
    "    if 'similarity_score' in result['similarity']:\n",
    "        print(f\"\\n🔗 SIMILARITY ANALYSIS:\")\n",
    "        print(f\"  Reference: {result['similarity']['reference_text']}\")\n",
    "        print(f\"  Score: {result['similarity']['similarity_score']:.4f}\")\n",
    "        print(f\"  Interpretation: {result['similarity']['similarity_interpretation']}\")\n",
    "\n",
    "    return result\n",
    "\n",
    "# Test the interactive function\n",
    "print(\"🧪 Testing interactive exploration...\")\n",
    "explore_sentence(\"Deep learning models are incredibly powerful.\", \"AI technology is advancing rapidly.\")\n",
    "print(\"\\n✅ Interactive exploration completed!\")\n"
   ]
  },
  {
   "cell_type": "markdown",
   "id": "59fe60d0",
   "metadata": {},
   "source": [
    "## 🎉 Mini-Project Complete!\n",
    "\n",
    "### What We Built:\n",
    "1. **Comprehensive Token & Embedding Explorer Function** - Analyzes any sentence for tokens, embeddings, and similarity\n",
    "2. **Multi-Sentence Analysis** - Tested with 10 diverse sentences\n",
    "3. **Cluster Visualization** - 2D PCA plot showing sentence relationships\n",
    "4. **Similarity Analysis** - Compared all sentences against a reference text\n",
    "5. **Interactive Exploration** - Detailed analysis of individual sentences\n",
    "\n",
    "### Key Features:\n",
    "- ✅ **Tokenization**: Breaks down text into tokens with detailed analysis\n",
    "- ✅ **Embedding Generation**: Creates vector representations using OpenAI's API\n",
    "- ✅ **Similarity Calculation**: Compares sentences against reference text\n",
    "- ✅ **Visualization**: 2D cluster plots and heatmaps\n",
    "- ✅ **Analysis**: Comprehensive statistics and insights\n",
    "\n",
    "### Insights Discovered:\n",
    "- **Token Efficiency**: How efficiently text is tokenized\n",
    "- **Semantic Clustering**: How similar sentences group together\n",
    "- **Similarity Patterns**: Which sentences are most/least similar to reference\n",
    "- **Embedding Properties**: Vector dimensions and norms\n",
    "\n",
    "### Usage:\n",
    "```python\n",
    "# Analyze a single sentence\n",
    "result = token_embedding_explorer(\"Your sentence here\", \"Reference text\")\n",
    "\n",
    "# Interactive exploration\n",
    "explore_sentence(\"Your sentence here\", \"Reference text\")\n",
    "```\n",
    "\n",
    "This mini-project demonstrates the power of combining tokenization, embeddings, and similarity analysis for understanding text relationships! 🚀\n"
   ]
  }
 ],
 "metadata": {
  "kernelspec": {
   "display_name": "agentic_AI_py312",
   "language": "python",
   "name": "python3"
  },
  "language_info": {
   "codemirror_mode": {
    "name": "ipython",
    "version": 3
   },
   "file_extension": ".py",
   "mimetype": "text/x-python",
   "name": "python",
   "nbconvert_exporter": "python",
   "pygments_lexer": "ipython3",
   "version": "3.12.7"
  }
 },
 "nbformat": 4,
 "nbformat_minor": 5
}
